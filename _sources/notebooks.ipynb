{
 "cells": [
  {
   "cell_type": "markdown",
   "metadata": {},
   "source": [
    "# Estimasi\n",
    "Secara umum Parameter populasi ditulis dengan huruf\n",
    "latin\n",
    "\n",
    "(theta), di mana\n",
    " bisa berupa:\n",
    "\n",
    "    - rata-rata populasi(mu =μ),\n",
    "    - simpangan baku populasi(sigma =σ),\n",
    "    - proporsi populasi(Phi=π.\n",
    "Sedangkan statistik dari sampel ditulis መ(theta topi),bisa berupa :\n",
    "\n",
    "    - rata-rata sampel( )\n",
    "    - simpangan baku sampel(S),\n",
    "    - proporsi sampel(p).\n",
    "Dalam statistika inferensia, statistik\n",
    "෠\n",
    "(theta topi)inilahyang dipakai untuk\n",
    "menduga\n",
    "parameter\n",
    "\n",
    "dari populasimaka\n",
    "෠\n",
    "disebut penduga (penaksir/estimasi)\n",
    "\n",
    "Dalam Teori Pendugaan dikenal duajenis pendugaan(estimasi)yaitu :\n",
    "\n",
    "    - Tidak memberikan selisih atau jarak antara nilaipenduga dengan nilai sebenarnya (parameter)\n",
    "    - Pendugaan Interval (Estimasi Interval).\n",
    "interval kepercayaan(confidence interval)adalahestimasiestimasiinterval berdasarkan tingkat kepercayaan tertentu dan batasatas serta batas bawah interval disebut batas kepercayaan(confidence limits).\n",
    "\n",
    "# Code blocks\n",
    "\n",
    "Estimasi rata-rata :"
   ]
  },
  {
   "cell_type": "code",
   "execution_count": null,
   "metadata": {},
   "outputs": [],
   "source": [
    "import numpy as np \n",
    "from scipy.stats import t\n",
    "\n",
    "x = np.array([50,58,43,64,47,50,56,47,60,64])\n",
    "m = x.mean() \n",
    "s = x.std() \n",
    "dof = len(x)-1 \n",
    "confidence = 0.99\n",
    "t_crit = np.abs(t.ppf((1-confidence)/2,dof))\n",
    "(m-s*t_crit/np.sqrt(len(x)), m+s*t_crit/np.sqrt(len(x)))\n",
    "values = [np.random.choice(x,size=len(x),replace=True).mean()] \n",
    "np.percentile(values,[100*(1-confidence)/2,100*(1-(1-confidence)/2)])"
   ]
  },
  {
   "cell_type": "markdown",
   "metadata": {},
   "source": [
    "# Standar deviasi\n",
    "standar deviasi adalah nilai statistik yang dipakai guna menentukan seberapa dekat data dari suatu sampel statistik dengan data mean atau rata-rata data tersebut. Semakin rendah nilai standar deviasi, maka semakin mendekati rata-rata, sedangkan jika nilai standar deviasi semakin tinggi, artinya semakin lebar rentang variasi datanya.\n",
    "\n",
    "# Code Block\n",
    "Standar deviasi :"
   ]
  },
  {
   "cell_type": "code",
   "execution_count": null,
   "metadata": {},
   "outputs": [],
   "source": [
    "import statistics\n",
    "sample = [50,58,43,64,47,50,56,47,60,64]\n",
    "\n",
    "print(\"Standar Deviasi % s \"\n",
    "                % (statistics.stdev(sample)))"
   ]
  },
  {
   "cell_type": "markdown",
   "metadata": {},
   "source": [
    "# Skewness dan kurtois\n",
    "Kemencengan atau kecondongan (skewness) adalah tingkat ketidaksimetrisan atau kejauhan simetri dari sebuah distribusi. Skewness diartikan sebagai kemiringan distribusi data. Sebuah distribusi yang tidak simetris akan memiliki rata-rata, median, dan modus yang tidak sama besarnya sehingga distribusi akan terkonsentrasi pada salah satu sisi dan kurvanya akan menceng.\n",
    "\n",
    "Keruncingan disebut juga ketinggian kurva. Keruncingan atau kurtosis adalah tingkat kepuncakan dari sebuah distribusi yang biasanya diambil secararelatif terhadap suatu distribusi normal. Rata-rata dan ukuran penyebaran dapat menggambarkan distribusi data tetapi tidak cukup untuk menggambarkan sifat distribusi. Untuk dapat menggambarkan karakteristik dari suatu distribusi data, kita menggunakan konsep-konsep yang dikenal sebagai kemiringan (skewness) dan keruncingan (kurtosis). Ukuran keruncingan (Kurtosis) adalah derajat kepuncakan dari suatu distribusi, biasanya diambil relative terhadap distribusi normal.\n",
    "\n",
    "# Code Block\n",
    "skewwness dan kurtois :"
   ]
  },
  {
   "cell_type": "code",
   "execution_count": null,
   "metadata": {},
   "outputs": [],
   "source": [
    "from scipy.stats import skew\n",
    "from scipy.stats import kurtosis\n",
    "\n",
    "data = [50,58,43,64,47,50,56,47,60,64]\n",
    "\n",
    "#calculate sample skewness\n",
    "skewnes = skew(data, bias=False)\n",
    "kurtois = kurtosis(data, bias=False)\n",
    "print(\"skewness = \",skewnes)\n",
    "print(\"kurtois = \",kurtois)"
   ]
  },
  {
   "cell_type": "markdown",
   "metadata": {},
   "source": [
    "# KNN\n",
    "\n",
    "K-Nearest Neighbor (KNN) adalah suatu metode yang menggunakan algoritma supervised dimana hasil dari query instance yang baru diklasifikan berdasarkan mayoritas dari kategori pada KNN. Tujuan dari algoritma ini adalah mengklasifikasikan obyek baru bedasarkan atribut dan training sample.\n",
    "\n",
    "# Code Block\n",
    "K-NN Regression :"
   ]
  },
  {
   "cell_type": "code",
   "execution_count": null,
   "metadata": {},
   "outputs": [],
   "source": [
    "import pandas as pd\n",
    "import matplotlib.pyplot as plt\n",
    "import scipy.stats\n",
    "from sklearn.model_selection import train_test_split\n",
    "from sklearn.neighbors import KNeighborsRegressor\n",
    "from sklearn.metrics import mean_squared_error\n",
    "from math import sqrt\n",
    "import seaborn as sns\n",
    "import numpy as np\n",
    "\n",
    "url = (\n",
    "    \"https://archive.ics.uci.edu/ml/machine-learning-databases\"\n",
    "    \"/abalone/abalone.data\"\n",
    ")\n",
    "abalone = pd.read_csv(url, header=None)\n",
    "abalone.columns = [\n",
    "    \"Sex\",\n",
    "    \"Length\",\n",
    "    \"Diameter\",\n",
    "    \"Height\",\n",
    "    \"Whole weight\",\n",
    "    \"Shucked weight\",\n",
    "    \"Viscera weight\",\n",
    "    \"Shell weight\",\n",
    "    \"Rings\",\n",
    "]\n",
    "abalone = abalone.drop(\"Sex\", axis=1)\n",
    "abalone[\"Rings\"].hist(bins=15)\n",
    "plt.show()\n",
    "correlation_matrix = abalone.corr()\n",
    "correlation_matrix[\"Rings\"]\n",
    "X = abalone.drop(\"Rings\", axis=1)\n",
    "X = X.values\n",
    "y = abalone[\"Rings\"]\n",
    "y = y.values\n",
    "\n",
    "new_data_point = np.array([\n",
    "    0.569552,\n",
    "    0.446407,\n",
    "    0.154437,\n",
    "    1.016849,\n",
    "    0.439051,\n",
    "    0.222526,\n",
    "    0.291208,\n",
    "])\n",
    "\n",
    "distances = np.linalg.norm(X - new_data_point, axis=1)\n",
    "k = 3\n",
    "nearest_neighbor_ids = distances.argsort()[:k]\n",
    "nearest_neighbor_ids\n",
    "nearest_neighbor_rings = y[nearest_neighbor_ids]\n",
    "nearest_neighbor_rings\n",
    "prediction = nearest_neighbor_rings.mean()\n",
    "class_neighbors = np.array([\"A\", \"B\", \"B\", \"C\"])\n",
    "scipy.stats.mode(class_neighbors)\n",
    "\n",
    "X_train, X_test, y_train, y_test = train_test_split(\n",
    "    X, y, test_size=0.2, random_state=12345\n",
    ")\n",
    "knn_model = KNeighborsRegressor(n_neighbors=3)\n",
    "knn_model.fit(X_train, y_train)\n",
    "train_preds = knn_model.predict(X_train)\n",
    "mse = mean_squared_error(y_train, train_preds)\n",
    "rmse = sqrt(mse)\n",
    "rmse\n",
    "test_preds = knn_model.predict(X_test)\n",
    "mse = mean_squared_error(y_test, test_preds)\n",
    "rmse = sqrt(mse)\n",
    "rmse\n",
    "cmap = sns.cubehelix_palette(as_cmap=True)\n",
    "f, ax = plt.subplots()\n",
    "points = ax.scatter(\n",
    "    X_test[:, 0], X_test[:, 1], c=test_preds, s=50, cmap=cmap\n",
    ")\n",
    "f.colorbar(points)\n",
    "plt.show()\n",
    "cmap = sns.cubehelix_palette(as_cmap=True)\n",
    "f, ax = plt.subplots()\n",
    "points = ax.scatter(\n",
    "    X_test[:, 0], X_test[:, 1], c=y_test, s=50, cmap=cmap\n",
    ")\n",
    "f.colorbar(points)\n",
    "plt.show()"
   ]
  }
 ],
 "metadata": {
  "kernelspec": {
   "display_name": "Python 3.10.4 64-bit",
   "language": "python",
   "name": "python3"
  },
  "language_info": {
   "codemirror_mode": {
    "name": "ipython",
    "version": 3
   },
   "file_extension": ".py",
   "mimetype": "text/x-python",
   "name": "python",
   "nbconvert_exporter": "python",
   "pygments_lexer": "ipython3",
   "version": "3.10.5"
  },
  "vscode": {
   "interpreter": {
    "hash": "0eef2f052ad0775a71e8c4103878f26336d9f954f54c825811ad0552ebba0f08"
   }
  },
  "widgets": {
   "application/vnd.jupyter.widget-state+json": {
    "state": {},
    "version_major": 2,
    "version_minor": 0
   }
  }
 },
 "nbformat": 4,
 "nbformat_minor": 4
}
